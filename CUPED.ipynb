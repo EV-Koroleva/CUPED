{
 "cells": [
  {
   "cell_type": "code",
   "execution_count": 7,
   "id": "d70c0d4e-8fa4-4109-9fed-65a941baeb79",
   "metadata": {},
   "outputs": [],
   "source": [
    "import pandas as pd\n",
    "import numpy as np\n",
    "from scipy import stats\n",
    "from statsmodels.stats.power import tt_ind_solve_power"
   ]
  },
  {
   "cell_type": "markdown",
   "id": "8863881e-2c6e-489f-b8cb-f31b03c60495",
   "metadata": {},
   "source": [
    "# Кейс"
   ]
  },
  {
   "cell_type": "markdown",
   "id": "9547600c-ae18-46b7-ae7d-34f687f490d5",
   "metadata": {},
   "source": [
    "Команда монетизации тестирует новую систему цен на очень небольшую аудиторию. Аудитория достаточно пассивная, поэтому в ней редко прокрашиваются фичи. Основная метрика ARPPU.\n",
    "Необходимо провести первичный анализ и найти наблюдаемый эффект между группами, проанализировать базовый A/B-тест и понять есть ли стат. значимое изменение в post данных после внедрения новых цен, провести CUPED t-test, рассчитать размер выборки для CUPED t-test."
   ]
  },
  {
   "cell_type": "markdown",
   "id": "d89147e5-2a6d-4474-b77f-7608f2a31eac",
   "metadata": {},
   "source": [
    "# Загрузка данных"
   ]
  },
  {
   "cell_type": "markdown",
   "id": "f473bbea-eb89-47c9-8bfe-f7e1c6a2e9ad",
   "metadata": {},
   "source": [
    "Данные содержат поюзерную пару ARPPU до теста (pre_ARPPU) и ARPU после тесте (post_ARPU)"
   ]
  },
  {
   "cell_type": "code",
   "execution_count": 9,
   "id": "8657b908-dd53-4b7b-9bed-8d33fed119da",
   "metadata": {},
   "outputs": [
    {
     "name": "stdout",
     "output_type": "stream",
     "text": [
      "<class 'pandas.core.frame.DataFrame'>\n",
      "RangeIndex: 4460 entries, 0 to 4459\n",
      "Data columns (total 3 columns):\n",
      " #   Column      Non-Null Count  Dtype  \n",
      "---  ------      --------------  -----  \n",
      " 0   post_ARPPU  4460 non-null   float64\n",
      " 1   pre_ARPPU   3867 non-null   float64\n",
      " 2   group       4460 non-null   object \n",
      "dtypes: float64(2), object(1)\n",
      "memory usage: 104.7+ KB\n"
     ]
    }
   ],
   "source": [
    "df_cuped = pd.read_csv('cuped.csv')\n",
    "df_cuped.info()"
   ]
  },
  {
   "cell_type": "code",
   "execution_count": 11,
   "id": "ee62738f-6174-4d13-8c39-dc330ff6c66f",
   "metadata": {},
   "outputs": [
    {
     "data": {
      "text/html": [
       "<div>\n",
       "<style scoped>\n",
       "    .dataframe tbody tr th:only-of-type {\n",
       "        vertical-align: middle;\n",
       "    }\n",
       "\n",
       "    .dataframe tbody tr th {\n",
       "        vertical-align: top;\n",
       "    }\n",
       "\n",
       "    .dataframe thead th {\n",
       "        text-align: right;\n",
       "    }\n",
       "</style>\n",
       "<table border=\"1\" class=\"dataframe\">\n",
       "  <thead>\n",
       "    <tr style=\"text-align: right;\">\n",
       "      <th></th>\n",
       "      <th>post_ARPPU</th>\n",
       "      <th>pre_ARPPU</th>\n",
       "      <th>group</th>\n",
       "    </tr>\n",
       "  </thead>\n",
       "  <tbody>\n",
       "    <tr>\n",
       "      <th>0</th>\n",
       "      <td>660.0</td>\n",
       "      <td>595.0</td>\n",
       "      <td>A</td>\n",
       "    </tr>\n",
       "    <tr>\n",
       "      <th>1</th>\n",
       "      <td>540.0</td>\n",
       "      <td>621.0</td>\n",
       "      <td>A</td>\n",
       "    </tr>\n",
       "    <tr>\n",
       "      <th>2</th>\n",
       "      <td>863.0</td>\n",
       "      <td>782.0</td>\n",
       "      <td>A</td>\n",
       "    </tr>\n",
       "    <tr>\n",
       "      <th>3</th>\n",
       "      <td>431.0</td>\n",
       "      <td>567.0</td>\n",
       "      <td>A</td>\n",
       "    </tr>\n",
       "    <tr>\n",
       "      <th>4</th>\n",
       "      <td>434.0</td>\n",
       "      <td>473.0</td>\n",
       "      <td>A</td>\n",
       "    </tr>\n",
       "  </tbody>\n",
       "</table>\n",
       "</div>"
      ],
      "text/plain": [
       "   post_ARPPU  pre_ARPPU group\n",
       "0       660.0      595.0     A\n",
       "1       540.0      621.0     A\n",
       "2       863.0      782.0     A\n",
       "3       431.0      567.0     A\n",
       "4       434.0      473.0     A"
      ]
     },
     "execution_count": 11,
     "metadata": {},
     "output_type": "execute_result"
    }
   ],
   "source": [
    "df_cuped.head()"
   ]
  },
  {
   "cell_type": "markdown",
   "id": "a253d568-1eff-4a6a-b56e-51fa49e9f11d",
   "metadata": {},
   "source": [
    "# Первичный анализ"
   ]
  },
  {
   "cell_type": "code",
   "execution_count": 13,
   "id": "2d4071fa-bde1-46b2-ae50-9582443d4789",
   "metadata": {},
   "outputs": [
    {
     "name": "stdout",
     "output_type": "stream",
     "text": [
      "Среднее по группе A: 598.6899\n",
      "Среднее по группе B: 604.0458\n",
      "Абсолютная разница между средними: 5.3559\n"
     ]
    }
   ],
   "source": [
    "# Отфильтруем данные по группам A и B\n",
    "group_a = df_cuped[df_cuped['group'] == 'A']['post_ARPPU']\n",
    "group_b = df_cuped[df_cuped['group'] == 'B']['post_ARPPU']\n",
    "\n",
    "# Рассчитаем средние значения\n",
    "mean_a = group_a.mean()\n",
    "mean_b = group_b.mean()\n",
    "\n",
    "# Абсолютная разница между средними\n",
    "abs_diff = abs(mean_b - mean_a)\n",
    "\n",
    "print(f\"Среднее по группе A: {mean_a:.4f}\")\n",
    "print(f\"Среднее по группе B: {mean_b:.4f}\")\n",
    "print(f\"Абсолютная разница между средними: {abs_diff:.4f}\")"
   ]
  },
  {
   "cell_type": "code",
   "execution_count": 15,
   "id": "21af8f6e-e3e1-47e8-bc83-1f6e0f80d41c",
   "metadata": {},
   "outputs": [
    {
     "name": "stdout",
     "output_type": "stream",
     "text": [
      "Стандартное отклонение pre_ARPPU в группе A: 98.8946\n",
      "Наблюдаемый эффект (Cohen's d): 0.0542\n"
     ]
    }
   ],
   "source": [
    "# Стандартное отклонение pre_ARPPU в группе A\n",
    "std_pre_a = df_cuped[df_cuped['group'] == 'A']['pre_ARPPU'].std(ddof=1)\n",
    "\n",
    "# Расчёт эффекта (Cohen's d)\n",
    "cohen_d = abs_diff / std_pre_a\n",
    "\n",
    "print(f\"Стандартное отклонение pre_ARPPU в группе A: {std_pre_a:.4f}\")\n",
    "print(f\"Наблюдаемый эффект (Cohen's d): {cohen_d:.4f}\")"
   ]
  },
  {
   "cell_type": "markdown",
   "id": "09dfbca3-8d09-41cb-99fc-175a53695c6c",
   "metadata": {},
   "source": [
    "# Простой t-test"
   ]
  },
  {
   "cell_type": "code",
   "execution_count": 71,
   "id": "d902a0c8-e9a6-4e13-9a43-3d6e688d9969",
   "metadata": {},
   "outputs": [
    {
     "name": "stdout",
     "output_type": "stream",
     "text": [
      "T-статистика: 1.7853\n",
      "P-value: 0.0743\n"
     ]
    }
   ],
   "source": [
    "# Выполняем t-тест \n",
    "t_stat, p_value = stats.ttest_ind(group_b, group_a, equal_var=False)\n",
    "\n",
    "print(f\"T-статистика: {t_stat:.4f}\")\n",
    "print(f\"P-value: {p_value:.4f}\")"
   ]
  },
  {
   "cell_type": "markdown",
   "id": "f78d5b3f-5f64-49ee-bc56-467a21c587ae",
   "metadata": {},
   "source": [
    "# CUPED t-test"
   ]
  },
  {
   "cell_type": "code",
   "execution_count": 19,
   "id": "cb8a8ee0-7717-4f16-b742-732a7fbd780a",
   "metadata": {},
   "outputs": [
    {
     "name": "stdout",
     "output_type": "stream",
     "text": [
      "Доля пропущенных значений в pre_ARPPU: 0.133\n"
     ]
    }
   ],
   "source": [
    "# Общее количество строк\n",
    "total_rows = len(df_cuped)\n",
    "\n",
    "# Количество пропущенных значений в pre_ARPPU\n",
    "missing_pre = df_cuped['pre_ARPPU'].isna().sum()\n",
    "\n",
    "# Доля пропущенных значений\n",
    "missing_ratio = missing_pre / total_rows\n",
    "\n",
    "print(f\"Доля пропущенных значений в pre_ARPPU: {missing_ratio:.4}\")"
   ]
  },
  {
   "cell_type": "code",
   "execution_count": 21,
   "id": "10cdfd30-9873-4634-93fc-6a99e256d1f5",
   "metadata": {},
   "outputs": [],
   "source": [
    "# Вычисляем среднее значение по pre_ARPPU (без NaN)\n",
    "mean_pre = df_cuped['pre_ARPPU'].mean()\n",
    "\n",
    "# Заполняем пропущенные значения этим средним\n",
    "df_cuped['pre_ARPPU'] = df_cuped['pre_ARPPU'].fillna(mean_pre)"
   ]
  },
  {
   "cell_type": "code",
   "execution_count": 23,
   "id": "6acba420-2303-409e-a890-18ac039d940f",
   "metadata": {},
   "outputs": [],
   "source": [
    "# Разобьем на соответствующие группы для того чтобы провести cuped t-test:\n",
    "pre_control = df_cuped['pre_ARPPU'][df_cuped['group'] == 'A']\n",
    "post_control = df_cuped['post_ARPPU'][df_cuped['group'] == 'A']\n",
    "pre_test = df_cuped['pre_ARPPU'][df_cuped['group'] == 'B']\n",
    "post_test = df_cuped['post_ARPPU'][df_cuped['group'] == 'B']"
   ]
  },
  {
   "cell_type": "code",
   "execution_count": 25,
   "id": "6bbd8e11-657e-4f71-be40-e6b68ddca1bd",
   "metadata": {},
   "outputs": [],
   "source": [
    "# Напишем функции для расчета theta и проведения cuped t-test:\n",
    "def calculate_theta_for_test(control_pre, control_post, test_pre, test_post):\n",
    "    theta = (np.cov(control_post, control_pre)[0, 1] + np.cov(test_post, test_pre)[0, 1]) /\\\n",
    "            (np.var(control_pre) + np.var(test_pre))\n",
    "    return(theta)\n",
    "\n",
    "def get_basic_ttest(group_A, group_B):\n",
    "    t_stat, p_value = stats.ttest_ind(group_A, group_B)\n",
    "    inference = {'t_stat': t_stat, 'p_value':p_value}\n",
    "    return(inference)\n",
    "\n",
    "def get_cuped_ttest(control_pre, control_post, test_pre, test_post):\n",
    "    '''Проверяет гипотезу о равенстве средних CUPED вариант\n",
    "    return - t_stat, p_value'''\n",
    "\n",
    "    theta = calculate_theta_for_test(control_pre, control_post, test_pre, test_post)\n",
    "\n",
    "    control_cuped = control_post - theta * control_pre\n",
    "    test_cuped = test_post - theta * test_pre\n",
    "\n",
    "    inference = get_basic_ttest(control_cuped, test_cuped)\n",
    "\n",
    "    return(inference)"
   ]
  },
  {
   "cell_type": "code",
   "execution_count": 27,
   "id": "3adeb636-97c0-48f9-940a-091671f16e57",
   "metadata": {},
   "outputs": [
    {
     "name": "stdout",
     "output_type": "stream",
     "text": [
      "p-value в cuped t-test 0.0317\n"
     ]
    }
   ],
   "source": [
    "# Проведем cuped ttest:\n",
    "cuped_ttest_inference = get_cuped_ttest(pre_control, post_control, pre_test, post_test)\n",
    "print('p-value в cuped t-test', round(cuped_ttest_inference['p_value'], 4))"
   ]
  },
  {
   "cell_type": "markdown",
   "id": "54709fa8-e1ee-4397-9ea4-c6cbcd153188",
   "metadata": {},
   "source": [
    "# Размер выборки"
   ]
  },
  {
   "cell_type": "code",
   "execution_count": 30,
   "id": "ae52a432-29ee-4ec9-a2cc-59391c555e4c",
   "metadata": {},
   "outputs": [
    {
     "data": {
      "text/html": [
       "<div>\n",
       "<style scoped>\n",
       "    .dataframe tbody tr th:only-of-type {\n",
       "        vertical-align: middle;\n",
       "    }\n",
       "\n",
       "    .dataframe tbody tr th {\n",
       "        vertical-align: top;\n",
       "    }\n",
       "\n",
       "    .dataframe thead th {\n",
       "        text-align: right;\n",
       "    }\n",
       "</style>\n",
       "<table border=\"1\" class=\"dataframe\">\n",
       "  <thead>\n",
       "    <tr style=\"text-align: right;\">\n",
       "      <th></th>\n",
       "      <th>post_ARPPU</th>\n",
       "      <th>pre_ARPPU</th>\n",
       "    </tr>\n",
       "  </thead>\n",
       "  <tbody>\n",
       "    <tr>\n",
       "      <th>0</th>\n",
       "      <td>629.0</td>\n",
       "      <td>620.0</td>\n",
       "    </tr>\n",
       "    <tr>\n",
       "      <th>1</th>\n",
       "      <td>536.0</td>\n",
       "      <td>619.0</td>\n",
       "    </tr>\n",
       "    <tr>\n",
       "      <th>2</th>\n",
       "      <td>503.0</td>\n",
       "      <td>596.0</td>\n",
       "    </tr>\n",
       "    <tr>\n",
       "      <th>3</th>\n",
       "      <td>649.0</td>\n",
       "      <td>578.0</td>\n",
       "    </tr>\n",
       "    <tr>\n",
       "      <th>4</th>\n",
       "      <td>667.0</td>\n",
       "      <td>752.0</td>\n",
       "    </tr>\n",
       "  </tbody>\n",
       "</table>\n",
       "</div>"
      ],
      "text/plain": [
       "   post_ARPPU  pre_ARPPU\n",
       "0       629.0      620.0\n",
       "1       536.0      619.0\n",
       "2       503.0      596.0\n",
       "3       649.0      578.0\n",
       "4       667.0      752.0"
      ]
     },
     "execution_count": 30,
     "metadata": {},
     "output_type": "execute_result"
    }
   ],
   "source": [
    "df_cuped_pre = pd.read_csv('cuped_pre_pre_data.csv')\n",
    "df_cuped_pre.head()"
   ]
  },
  {
   "cell_type": "code",
   "execution_count": 32,
   "id": "a14e8ee1-b168-41ee-8777-e0b959bc58eb",
   "metadata": {},
   "outputs": [],
   "source": [
    "# Вычисляем среднее значение(без NaN)\n",
    "mean_pre = df_cuped_pre['pre_ARPPU'].mean()\n",
    "mean_post = df_cuped_pre['post_ARPPU'].mean()\n",
    "\n",
    "# Заполняем пропущенные значения этим средним\n",
    "df_cuped_pre['pre_ARPPU'] = df_cuped_pre['pre_ARPPU'].fillna(mean_pre)\n",
    "df_cuped_pre['post_ARPPU'] = df_cuped_pre['post_ARPPU'].fillna(mean_post)"
   ]
  },
  {
   "cell_type": "code",
   "execution_count": 34,
   "id": "c2126a83-31ef-4a45-870a-8e4de542d60e",
   "metadata": {},
   "outputs": [
    {
     "name": "stdout",
     "output_type": "stream",
     "text": [
      "Theta = 0.6096554199736017\n"
     ]
    }
   ],
   "source": [
    "def calculate_theta_basic(pre, post):\n",
    "    theta = (np.cov(post, pre)[0, 1]) /\\\n",
    "            (np.var(pre))\n",
    "    return(theta)\n",
    "    \n",
    "theta = calculate_theta_basic(df_cuped_pre['pre_ARPPU'], df_cuped_pre['post_ARPPU'])\n",
    "print('Theta =', theta)"
   ]
  },
  {
   "cell_type": "code",
   "execution_count": 36,
   "id": "f5348ecb-812c-4940-a9a4-0536b89e4a05",
   "metadata": {},
   "outputs": [
    {
     "name": "stdout",
     "output_type": "stream",
     "text": [
      "Cтандартное отклонение Y_cuped = 83.47180548084842\n"
     ]
    }
   ],
   "source": [
    "#стандартное отклонение Y_cuped\n",
    "Y_cuped = df_cuped_pre['post_ARPPU'] - theta * df_cuped_pre['pre_ARPPU']\n",
    "Y_cuped_std = Y_cuped.std()\n",
    "print('Cтандартное отклонение Y_cuped =', Y_cuped_std)"
   ]
  },
  {
   "cell_type": "code",
   "execution_count": 38,
   "id": "8d517c94-ad7a-4add-b336-fe7bb67ba5c0",
   "metadata": {},
   "outputs": [
    {
     "name": "stdout",
     "output_type": "stream",
     "text": [
      "Cтандартное отклонение post_ArPPU = 101.24946625472516\n"
     ]
    }
   ],
   "source": [
    "#стандартное отклонение post_ARPPU\n",
    "post_ARPPU_std = df_cuped_pre['post_ARPPU'].std()\n",
    "print('Cтандартное отклонение post_ArPPU =', post_ARPPU_std)"
   ]
  },
  {
   "cell_type": "code",
   "execution_count": 44,
   "id": "e01f23b3-5cb6-40af-9325-0400ac9e84d9",
   "metadata": {},
   "outputs": [
    {
     "name": "stdout",
     "output_type": "stream",
     "text": [
      "Cтандартное отклонение Y_cuped меньше стандартного отклонения post_ARPPU на 17.558 %\n"
     ]
    }
   ],
   "source": [
    "# Расчёт процентного уменьшения\n",
    "reduction_percent = ((post_ARPPU_std - Y_cuped_std) / post_ARPPU_std) * 100\n",
    "print(f'Cтандартное отклонение Y_cuped меньше стандартного отклонения post_ARPPU на {reduction_percent:.3f}', '%')"
   ]
  },
  {
   "cell_type": "code",
   "execution_count": 52,
   "id": "d23df1e0-2f50-4081-b352-177f74379b58",
   "metadata": {},
   "outputs": [
    {
     "name": "stdout",
     "output_type": "stream",
     "text": [
      "0.05924643319868699\n",
      "Basic sample size = 4473\n",
      "0.07186462188408765\n",
      "CUPED sample size = 3040\n"
     ]
    }
   ],
   "source": [
    "# рассчитаем контрольные средние и std. Берем post период для обычной выборки\n",
    "control_std = df_cuped_pre['post_ARPPU'].std() # в функции generate_corr_data генерируются нормальные величины с std = 1\n",
    "control_mean = df_cuped_pre['post_ARPPU'].mean()\n",
    "mean_diff = control_mean * rel_effect\n",
    "\n",
    "# Расчет индекса Коэна\n",
    "cohen_d_basic  = mean_diff / control_std\n",
    "print(cohen_d_basic)\n",
    "n = tt_ind_solve_power(effect_size = cohen_d_basic,\n",
    "                       alpha = alpha,\n",
    "                       power = power,\n",
    "                       ratio = 1,\n",
    "                       alternative = \"two-sided\")\n",
    "basic_sample_size = round(n)\n",
    "print('Basic sample size =', basic_sample_size)\n",
    "\n",
    "cohen_d_cuped  = mean_diff / Y_cuped_std\n",
    "print(cohen_d_cuped)\n",
    "n_cuped = tt_ind_solve_power(effect_size = cohen_d_cuped,\n",
    "                       alpha = alpha,\n",
    "                       power = 0.8,\n",
    "                       ratio = 1,\n",
    "                       alternative = \"two-sided\")\n",
    "cuped_sample_size = round(n_cuped)\n",
    "print('CUPED sample size =', cuped_sample_size)\n"
   ]
  }
 ],
 "metadata": {
  "kernelspec": {
   "display_name": "Python [conda env:base] *",
   "language": "python",
   "name": "conda-base-py"
  },
  "language_info": {
   "codemirror_mode": {
    "name": "ipython",
    "version": 3
   },
   "file_extension": ".py",
   "mimetype": "text/x-python",
   "name": "python",
   "nbconvert_exporter": "python",
   "pygments_lexer": "ipython3",
   "version": "3.12.7"
  }
 },
 "nbformat": 4,
 "nbformat_minor": 5
}
